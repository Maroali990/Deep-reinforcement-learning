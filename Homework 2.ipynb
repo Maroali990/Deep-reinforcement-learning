{
 "cells": [
  {
   "cell_type": "code",
   "execution_count": 2,
   "id": "99d7838d",
   "metadata": {},
   "outputs": [],
   "source": [
    "import numpy as np"
   ]
  },
  {
   "cell_type": "code",
   "execution_count": 36,
   "id": "504e61d8",
   "metadata": {},
   "outputs": [
    {
     "name": "stdout",
     "output_type": "stream",
     "text": [
      "Please provide your desired grid dimension (dim X dim)\n",
      "\n",
      "15\n",
      "\n",
      "\n",
      "Gridworld:\n",
      "\n",
      "[['O' 'O' 'O' 'O' 'O' 'O' 'O' 'O' 'O' 'O' 'O' 'X' 'O' 'O' 'O']\n",
      " ['O' 'O' 'O' 'O' 'X' 'O' 'O' 'O' 'O' 'O' 'O' 'O' 'O' 'O' 'O']\n",
      " ['O' 'O' 'O' 'O' 'O' 'O' 'O' 'O' 'O' 'O' 'O' 'O' 'O' 'O' 'O']\n",
      " ['O' 'X' 'O' 'O' 'O' 'O' 'O' 'X' 'O' 'X' 'O' 'O' 'O' 'O' 'O']\n",
      " ['O' 'O' 'O' 'O' 'O' 'O' 'X' 'O' 'X' 'O' 'O' 'O' 'X' 'O' 'O']\n",
      " ['O' 'O' 'O' 'O' 'O' 'O' 'O' 'O' 'O' 'X' 'O' 'O' 'O' 'O' 'O']\n",
      " ['O' 'O' 'O' 'O' 'X' 'O' 'O' 'O' 'X' 'O' 'O' 'O' 'X' 'O' 'O']\n",
      " ['O' 'O' 'O' 'O' 'X' 'O' 'O' 'O' 'X' 'O' 'O' 'O' 'X' 'O' 'O']\n",
      " ['O' 'O' 'O' 'O' 'O' 'O' 'O' 'O' 'O' 'O' 'O' 'O' 'O' 'O' 'O']\n",
      " ['O' 'O' 'X' 'O' 'O' 'O' 'O' 'O' 'O' 'O' 'O' 'X' 'O' 'O' 'O']\n",
      " ['O' 'O' 'O' 'O' 'O' 'X' 'O' 'O' 'O' 'O' 'O' 'O' 'O' 'O' 'X']\n",
      " ['O' 'O' 'O' 'X' 'X' 'O' 'O' 'O' 'X' 'O' 'O' 'O' 'O' 'O' 'X']\n",
      " ['O' 'O' 'O' 'O' 'O' 'O' 'X' 'O' 'O' 'O' 'O' 'O' 'O' 'O' 'O']\n",
      " ['O' 'X' 'O' 'O' 'O' 'O' 'O' 'O' 'X' 'O' 'O' 'O' 'O' 'O' 'O']\n",
      " ['O' 'O' 'O' 'O' 'O' 'O' 'O' 'O' 'O' 'O' 'O' 'X' 'O' 'X' 'O']]\n",
      "\n",
      "\n"
     ]
    }
   ],
   "source": [
    "# Specify dimensions\n",
    "\n",
    "print(\"Please provide your desired grid dimension (dim X dim)\\n\")\n",
    "\n",
    "s = int(input())\n",
    "\n",
    "print(\"\\n\")\n",
    "\n",
    "# Create basic structure\n",
    "\n",
    "for x in range(s+1):\n",
    "    grid_world = [\"O\"] * (x * x)\n",
    "\n",
    "# Create obstacles\n",
    "\n",
    "grid_world = np.array(grid_world)\n",
    "\n",
    "num_obs = int((x*x)/8) # specify number of obstacles\n",
    "\n",
    "indices = np.random.choice(np.arange(grid_world.size), replace=False,\n",
    "                           size=num_obs)\n",
    "\n",
    "grid_world[indices] = \"X\"\n",
    "\n",
    "grid_world = grid_world.reshape(((x, x)))\n",
    "\n",
    "# Show\n",
    "\n",
    "print(\"Gridworld:\\n\")\n",
    "print(grid_world)\n",
    "print(\"\\n\")"
   ]
  },
  {
   "cell_type": "code",
   "execution_count": null,
   "id": "e5f2d809",
   "metadata": {},
   "outputs": [],
   "source": []
  }
 ],
 "metadata": {
  "kernelspec": {
   "display_name": "Python 3 (ipykernel)",
   "language": "python",
   "name": "python3"
  },
  "language_info": {
   "codemirror_mode": {
    "name": "ipython",
    "version": 3
   },
   "file_extension": ".py",
   "mimetype": "text/x-python",
   "name": "python",
   "nbconvert_exporter": "python",
   "pygments_lexer": "ipython3",
   "version": "3.9.7"
  }
 },
 "nbformat": 4,
 "nbformat_minor": 5
}
