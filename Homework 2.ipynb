{
 "cells": [
  {
   "cell_type": "markdown",
   "id": "a36639ae",
   "metadata": {},
   "source": [
    "##### To do:\n",
    "    - Prevent obstacles from blocking all pathways to terminal state and trapping player\n",
    "    - Include movement"
   ]
  },
  {
   "cell_type": "code",
   "execution_count": 1,
   "id": "99d7838d",
   "metadata": {},
   "outputs": [],
   "source": [
    "import numpy as np\n",
    "import copy"
   ]
  },
  {
   "cell_type": "code",
   "execution_count": 42,
   "id": "504e61d8",
   "metadata": {},
   "outputs": [],
   "source": [
    "# Create Gridworld object\n",
    "\n",
    "class Gridworld:\n",
    "    \n",
    "    def __init__(self,dim):\n",
    "        \n",
    "        self.dim = dim\n",
    "        self.gid_world = []\n",
    "        self.reward_world = []\n",
    "        \n",
    "        self.gid_world_original = []\n",
    "        self.reward_world_original = []\n",
    "    \n",
    "    def build(self):\n",
    "        \n",
    "        ######### Build GW #########\n",
    "\n",
    "        for x in range(self.dim+1):\n",
    "            self.grid_world = [\"O\"] * (x * x)\n",
    "\n",
    "        # Create obstacles\n",
    "\n",
    "        self.grid_world = np.array(self.grid_world)\n",
    "\n",
    "        num_obs = int((self.dim*self.dim)/8) # specify number of obstacles\n",
    "\n",
    "        obstacle_indices = np.random.choice(np.arange(self.grid_world.size), replace=False,\n",
    "                                   size=num_obs)\n",
    "\n",
    "        self.grid_world[obstacle_indices] = \"X\"\n",
    "\n",
    "        # Set starting point\n",
    "\n",
    "        self.grid_world[0] = \"P\" # top left\n",
    "\n",
    "        # Show GW\n",
    "\n",
    "        self.grid_world = self.grid_world.reshape(((self.dim, self.dim)))\n",
    "\n",
    "        # Save Backup\n",
    "\n",
    "        self.grid_world_original = copy.deepcopy(self.grid_world)\n",
    "        \n",
    "        ######### Build RW #########\n",
    "\n",
    "        # Assign rewards to states\n",
    "\n",
    "        self.reward_world =copy.deepcopy(self.grid_world.flatten()) # create seperate array for reward\n",
    "\n",
    "        free_fields = [x for x in np.arange(self.reward_world.size) if x not in obstacle_indices] # generate list of free fields\n",
    "\n",
    "        np.random.shuffle(free_fields) # shuffle free fields\n",
    "\n",
    "        rew_pos_index = free_fields[-1] # choose index for postive reward (terminal state)\n",
    "        \n",
    "        rew_neg_amount = 5 # specify number of negative rewards\n",
    "\n",
    "        rew_neg_indices = np.random.choice(free_fields[0:-1], replace=False, size=rew_neg_amount) # randomly choose incides for negative rewards\n",
    "\n",
    "        self.reward_world[rew_neg_indices] = \"-\" # place negative rewards\n",
    "\n",
    "        self.reward_world[rew_pos_index] = \"+\" # place positive reward (terminal state)\n",
    "\n",
    "        self.reward_world = self.reward_world.reshape(((x, x)))\n",
    "\n",
    "        # Save Backup\n",
    "\n",
    "        self.reward_world_original = copy.deepcopy(self.reward_world)\n",
    "        \n",
    "        return self.grid_world, self.reward_world\n",
    "    \n",
    "    def reset_gridworld(self):\n",
    "        \n",
    "        self.reward_world = self.reward_world_original\n",
    "        self.grid_world = self.grid_world_original\n",
    "\n",
    "        return reward_world, grid_world\n",
    "\n",
    "    def step(grid_world,reward_world):\n",
    "        pass\n",
    "    "
   ]
  },
  {
   "cell_type": "code",
   "execution_count": 46,
   "id": "8dcf3ea3",
   "metadata": {},
   "outputs": [
    {
     "name": "stdout",
     "output_type": "stream",
     "text": [
      "Please provide your desired grid dimension (dim X dim):\n",
      "17\n"
     ]
    }
   ],
   "source": [
    "# Specify dimensions\n",
    "\n",
    "while True:    \n",
    "    try:\n",
    "        dim = int(input(\"Please provide your desired grid dimension (dim X dim):\\n\"))\n",
    "        \n",
    "        if dim >= 5:\n",
    "            break\n",
    "            \n",
    "        print(\"Dimension needs to be larger than 4!\\n\")\n",
    "    \n",
    "    except:\n",
    "        print(\"Please provide an integer value!\\n\")"
   ]
  },
  {
   "cell_type": "code",
   "execution_count": 47,
   "id": "b19f032d",
   "metadata": {},
   "outputs": [
    {
     "name": "stdout",
     "output_type": "stream",
     "text": [
      "Gridworld:\n",
      "\n",
      "[['P' 'O' 'O' 'X' 'O' 'O' 'X' 'O' 'O' 'O' 'O' 'O' 'O' 'O' 'O' 'O' 'O']\n",
      " ['X' 'O' 'O' 'O' 'O' 'O' 'X' 'O' 'O' 'O' 'O' 'O' 'O' 'O' 'X' 'O' 'O']\n",
      " ['O' 'O' 'O' 'O' 'O' 'O' 'O' 'O' 'O' 'O' 'O' 'O' 'O' 'O' 'O' 'X' 'X']\n",
      " ['O' 'O' 'O' 'X' 'O' 'O' 'O' 'O' 'O' 'O' 'X' 'O' 'O' 'O' 'O' 'O' 'O']\n",
      " ['O' 'O' 'O' 'O' 'X' 'O' 'O' 'O' 'O' 'X' 'O' 'X' 'O' 'O' 'X' 'O' 'O']\n",
      " ['O' 'O' 'X' 'O' 'O' 'O' 'O' 'O' 'O' 'O' 'O' 'O' 'O' 'O' 'O' 'O' 'O']\n",
      " ['O' 'O' 'O' 'O' 'O' 'O' 'O' 'O' 'X' 'O' 'O' 'O' 'O' 'O' 'O' 'O' 'O']\n",
      " ['O' 'O' 'O' 'O' 'O' 'O' 'O' 'O' 'X' 'O' 'O' 'X' 'O' 'O' 'O' 'O' 'O']\n",
      " ['O' 'O' 'O' 'O' 'O' 'O' 'O' 'O' 'O' 'O' 'O' 'O' 'O' 'O' 'O' 'O' 'O']\n",
      " ['O' 'O' 'O' 'O' 'O' 'O' 'O' 'O' 'O' 'O' 'O' 'O' 'O' 'O' 'O' 'X' 'O']\n",
      " ['O' 'O' 'X' 'O' 'X' 'O' 'O' 'O' 'O' 'O' 'O' 'O' 'O' 'O' 'X' 'O' 'O']\n",
      " ['O' 'O' 'O' 'X' 'O' 'O' 'O' 'O' 'O' 'X' 'O' 'O' 'X' 'X' 'O' 'O' 'O']\n",
      " ['O' 'O' 'O' 'O' 'O' 'O' 'O' 'O' 'O' 'X' 'O' 'O' 'O' 'X' 'O' 'O' 'O']\n",
      " ['O' 'O' 'O' 'O' 'O' 'O' 'O' 'O' 'O' 'O' 'O' 'O' 'O' 'O' 'O' 'O' 'O']\n",
      " ['O' 'O' 'X' 'X' 'O' 'O' 'X' 'O' 'O' 'O' 'O' 'O' 'O' 'X' 'O' 'O' 'O']\n",
      " ['O' 'X' 'O' 'O' 'O' 'X' 'O' 'O' 'X' 'O' 'O' 'O' 'O' 'O' 'O' 'O' 'O']\n",
      " ['O' 'O' 'O' 'O' 'O' 'O' 'O' 'O' 'O' 'X' 'O' 'O' 'O' 'O' 'O' 'O' 'O']]\n",
      "\n",
      "\n",
      "Reward world:\n",
      "\n",
      "[['P' 'O' 'O' 'X' 'O' 'O' 'X' 'O' 'O' 'O' 'O' '-' 'O' 'O' 'O' 'O' 'O']\n",
      " ['X' 'O' 'O' 'O' 'O' 'O' 'X' 'O' 'O' 'O' 'O' 'O' 'O' 'O' 'X' 'O' 'O']\n",
      " ['O' 'O' 'O' 'O' 'O' 'O' 'O' 'O' 'O' 'O' 'O' 'O' 'O' 'O' 'O' 'X' 'X']\n",
      " ['O' 'O' 'O' 'X' 'O' 'O' 'O' 'O' 'O' 'O' 'X' 'O' 'O' 'O' 'O' 'O' 'O']\n",
      " ['O' 'O' 'O' 'O' 'X' 'O' 'O' 'O' 'O' 'X' 'O' 'X' '-' 'O' 'X' 'O' 'O']\n",
      " ['O' 'O' 'X' 'O' 'O' 'O' 'O' 'O' 'O' 'O' 'O' 'O' 'O' 'O' 'O' 'O' 'O']\n",
      " ['O' 'O' 'O' 'O' 'O' 'O' 'O' 'O' 'X' 'O' 'O' 'O' 'O' 'O' 'O' 'O' 'O']\n",
      " ['O' 'O' 'O' 'O' 'O' 'O' 'O' 'O' 'X' 'O' 'O' 'X' 'O' 'O' 'O' 'O' 'O']\n",
      " ['O' 'O' 'O' 'O' 'O' 'O' '-' 'O' 'O' 'O' 'O' 'O' 'O' 'O' 'O' 'O' 'O']\n",
      " ['O' '-' 'O' 'O' 'O' 'O' 'O' 'O' 'O' 'O' 'O' 'O' 'O' 'O' 'O' 'X' 'O']\n",
      " ['O' 'O' 'X' 'O' 'X' 'O' 'O' 'O' 'O' 'O' 'O' 'O' 'O' 'O' 'X' 'O' 'O']\n",
      " ['O' 'O' 'O' 'X' 'O' 'O' 'O' 'O' 'O' 'X' 'O' 'O' 'X' 'X' 'O' 'O' 'O']\n",
      " ['O' 'O' 'O' 'O' 'O' 'O' 'O' 'O' 'O' 'X' '-' 'O' 'O' 'X' 'O' 'O' 'O']\n",
      " ['O' 'O' 'O' 'O' 'O' 'O' 'O' 'O' 'O' 'O' 'O' 'O' 'O' '+' 'O' 'O' 'O']\n",
      " ['O' 'O' 'X' 'X' 'O' 'O' 'X' 'O' 'O' 'O' 'O' 'O' 'O' 'X' 'O' 'O' 'O']\n",
      " ['O' 'X' 'O' 'O' 'O' 'X' 'O' 'O' 'X' 'O' 'O' 'O' 'O' 'O' 'O' 'O' 'O']\n",
      " ['O' 'O' 'O' 'O' 'O' 'O' 'O' 'O' 'O' 'X' 'O' 'O' 'O' 'O' 'O' 'O' 'O']]\n"
     ]
    }
   ],
   "source": [
    "# Create GW object\n",
    "\n",
    "gw = Gridworld(dim)\n",
    "\n",
    "grid_world, reward_world = gw.build()\n",
    "\n",
    "# Show GW\n",
    "\n",
    "print(\"Gridworld:\\n\")\n",
    "print(grid_world)\n",
    "print(\"\\n\")\n",
    "\n",
    "# Show RW\n",
    "\n",
    "print(\"Reward world:\\n\")\n",
    "print(reward_world)"
   ]
  },
  {
   "cell_type": "code",
   "execution_count": 17,
   "id": "4c0b03d9",
   "metadata": {},
   "outputs": [
    {
     "ename": "IndentationError",
     "evalue": "expected an indented block (Temp/ipykernel_13748/2651323321.py, line 10)",
     "output_type": "error",
     "traceback": [
      "\u001b[1;36m  File \u001b[1;32m\"C:\\Users\\marca\\AppData\\Local\\Temp/ipykernel_13748/2651323321.py\"\u001b[1;36m, line \u001b[1;32m10\u001b[0m\n\u001b[1;33m    \u001b[0m\n\u001b[1;37m    ^\u001b[0m\n\u001b[1;31mIndentationError\u001b[0m\u001b[1;31m:\u001b[0m expected an indented block\n"
     ]
    }
   ],
   "source": []
  }
 ],
 "metadata": {
  "kernelspec": {
   "display_name": "Python 3 (ipykernel)",
   "language": "python",
   "name": "python3"
  },
  "language_info": {
   "codemirror_mode": {
    "name": "ipython",
    "version": 3
   },
   "file_extension": ".py",
   "mimetype": "text/x-python",
   "name": "python",
   "nbconvert_exporter": "python",
   "pygments_lexer": "ipython3",
   "version": "3.9.7"
  }
 },
 "nbformat": 4,
 "nbformat_minor": 5
}
