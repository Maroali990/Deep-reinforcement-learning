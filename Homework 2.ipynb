{
 "cells": [
  {
   "cell_type": "markdown",
   "id": "060219f0",
   "metadata": {},
   "source": [
    "##### To do:\n",
    "    - Prevent obstacles from blocking all pathways (Dont put obstacles in the first row)\n",
    "    - Code GW as an Object"
   ]
  },
  {
   "cell_type": "code",
   "execution_count": 1,
   "id": "99d7838d",
   "metadata": {},
   "outputs": [],
   "source": [
    "import numpy as np\n",
    "import copy"
   ]
  },
  {
   "cell_type": "code",
   "execution_count": 48,
   "id": "504e61d8",
   "metadata": {},
   "outputs": [
    {
     "name": "stdout",
     "output_type": "stream",
     "text": [
      "Please provide your desired grid dimension (dim X dim):\n",
      "15\n",
      "Gridworld:\n",
      "\n",
      "[['P' 'O' 'O' 'O' 'O' 'O' 'O' 'O' 'O' 'O' 'O' 'O' 'O' 'O' 'O']\n",
      " ['O' 'O' 'O' 'O' 'O' 'O' 'O' 'X' 'O' 'X' 'O' 'O' 'O' 'O' 'O']\n",
      " ['O' 'O' 'O' 'O' 'O' 'O' 'O' 'O' 'O' 'O' 'O' 'O' 'O' 'O' 'O']\n",
      " ['O' 'O' 'O' 'O' 'X' 'X' 'X' 'O' 'O' 'X' 'O' 'O' 'O' 'O' 'O']\n",
      " ['O' 'O' 'O' 'O' 'O' 'O' 'X' 'X' 'X' 'O' 'O' 'O' 'O' 'O' 'O']\n",
      " ['O' 'O' 'O' 'O' 'O' 'O' 'O' 'O' 'X' 'O' 'O' 'O' 'X' 'X' 'O']\n",
      " ['O' 'O' 'O' 'O' 'O' 'O' 'X' 'O' 'O' 'O' 'X' 'O' 'O' 'O' 'O']\n",
      " ['O' 'X' 'O' 'O' 'O' 'X' 'O' 'O' 'O' 'O' 'O' 'O' 'O' 'O' 'O']\n",
      " ['O' 'O' 'O' 'O' 'O' 'O' 'O' 'O' 'O' 'O' 'O' 'O' 'O' 'O' 'O']\n",
      " ['O' 'O' 'O' 'X' 'O' 'O' 'O' 'O' 'O' 'O' 'O' 'O' 'O' 'O' 'O']\n",
      " ['O' 'O' 'O' 'O' 'O' 'O' 'O' 'O' 'O' 'O' 'O' 'O' 'O' 'O' 'O']\n",
      " ['O' 'O' 'O' 'X' 'O' 'X' 'X' 'X' 'O' 'O' 'O' 'O' 'O' 'O' 'O']\n",
      " ['O' 'O' 'X' 'O' 'O' 'O' 'O' 'O' 'O' 'X' 'O' 'X' 'O' 'X' 'O']\n",
      " ['O' 'O' 'O' 'X' 'O' 'O' 'O' 'O' 'O' 'O' 'O' 'O' 'O' 'O' 'O']\n",
      " ['O' 'X' 'O' 'X' 'O' 'O' 'O' 'O' 'O' 'O' 'O' 'O' 'O' 'O' 'O']]\n",
      "\n",
      "\n"
     ]
    }
   ],
   "source": [
    "# Specify dimensions\n",
    "\n",
    "while True:    \n",
    "    try:\n",
    "        s = int(input(\"Please provide your desired grid dimension (dim X dim):\\n\"))\n",
    "        \n",
    "        if s >= 5:\n",
    "            break\n",
    "            \n",
    "        print(\"Dimension needs to be larger than 4!\\n\")\n",
    "    \n",
    "    except:\n",
    "        print(\"Please provide an integer value!\\n\")\n",
    "\n",
    "# Create basic structure\n",
    "\n",
    "for x in range(s+1):\n",
    "    grid_world = [\"O\"] * (x * x)\n",
    "\n",
    "# Create obstacles\n",
    "\n",
    "grid_world = np.array(grid_world)\n",
    "\n",
    "num_obs = int((x*x)/8) # specify number of obstacles\n",
    "\n",
    "obstacle_indices = np.random.choice(np.arange(grid_world.size), replace=False,\n",
    "                           size=num_obs)\n",
    "\n",
    "grid_world[obstacle_indices] = \"X\"\n",
    "\n",
    "# Set starting point\n",
    "\n",
    "grid_world[0] = \"P\" # top left\n",
    "\n",
    "# Show GW\n",
    "\n",
    "grid_world = grid_world.reshape(((x, x)))\n",
    "\n",
    "# Save Backup\n",
    "\n",
    "grid_world_original = copy.deepcopy(grid_world)\n",
    "\n",
    "print(\"Gridworld:\\n\")\n",
    "print(grid_world)\n",
    "print(\"\\n\")"
   ]
  },
  {
   "cell_type": "code",
   "execution_count": 49,
   "id": "df281964",
   "metadata": {},
   "outputs": [
    {
     "name": "stdout",
     "output_type": "stream",
     "text": [
      "Reward world:\n",
      "\n",
      "[['P' 'O' 'O' 'O' 'O' 'O' 'O' 'O' 'O' 'O' 'O' 'O' 'O' 'O' 'O']\n",
      " ['-' 'O' 'O' 'O' 'O' 'O' 'O' 'X' 'O' 'X' 'O' 'O' 'O' 'O' 'O']\n",
      " ['O' 'O' 'O' 'O' 'O' 'O' 'O' 'O' 'O' 'O' 'O' 'O' 'O' 'O' 'O']\n",
      " ['O' 'O' 'O' 'O' 'X' 'X' 'X' 'O' 'O' 'X' 'O' 'O' 'O' 'O' 'O']\n",
      " ['O' 'O' 'O' 'O' 'O' 'O' 'X' 'X' 'X' 'O' 'O' 'O' 'O' 'O' 'O']\n",
      " ['O' '+' 'O' 'O' 'O' 'O' 'O' 'O' 'X' 'O' 'O' 'O' 'X' 'X' 'O']\n",
      " ['O' 'O' 'O' 'O' '-' 'O' 'X' 'O' 'O' 'O' 'X' 'O' 'O' 'O' 'O']\n",
      " ['O' 'X' 'O' 'O' 'O' 'X' 'O' 'O' 'O' 'O' 'O' 'O' 'O' 'O' 'O']\n",
      " ['O' 'O' 'O' 'O' 'O' 'O' 'O' 'O' 'O' 'O' 'O' 'O' 'O' 'O' 'O']\n",
      " ['O' 'O' 'O' 'X' 'O' 'O' 'O' 'O' 'O' 'O' 'O' 'O' 'O' 'O' '-']\n",
      " ['O' 'O' 'O' 'O' 'O' 'O' 'O' 'O' 'O' 'O' 'O' 'O' 'O' 'O' 'O']\n",
      " ['O' 'O' 'O' 'X' 'O' 'X' 'X' 'X' 'O' 'O' 'O' 'O' 'O' 'O' 'O']\n",
      " ['-' 'O' 'X' 'O' 'O' 'O' 'O' 'O' 'O' 'X' 'O' 'X' 'O' 'X' 'O']\n",
      " ['O' 'O' 'O' 'X' 'O' 'O' 'O' 'O' 'O' 'O' 'O' 'O' 'O' 'O' 'O']\n",
      " ['O' 'X' 'O' 'X' 'O' 'O' 'O' '-' 'O' 'O' 'O' 'O' 'O' 'O' 'O']]\n"
     ]
    }
   ],
   "source": [
    "# Assign rewards to states\n",
    "\n",
    "reward_world =copy.deepcopy(grid_world.flatten()) # create seperate array for reward\n",
    "\n",
    "rew_neg_amount = 5 # specify number of negative rewards\n",
    "\n",
    "free_fields = [x for x in np.arange(reward_world.size) if x not in obstacle_indices] # generate list of free fields\n",
    "\n",
    "np.random.shuffle(free_fields) # shuffle free fields\n",
    "\n",
    "rew_pos_index = free_fields[-1] # choose index for postive reward (terminal state)\n",
    "\n",
    "rew_neg_indices = np.random.choice(free_fields[0:-1], replace=False, size=rew_neg) # randomly choose incides for negative rewards\n",
    "\n",
    "reward_world[rew_neg_indices] = \"-\" # place negative rewards\n",
    "\n",
    "reward_world[rew_pos_index] = \"+\" # place positive reward (terminal state)\n",
    "\n",
    "reward_world = reward_world.reshape(((x, x)))\n",
    "\n",
    "# Save Backup\n",
    "\n",
    "reward_world_original = copy.deepcopy(reward_world)\n",
    "\n",
    "# Show\n",
    "\n",
    "print(\"Reward world:\\n\")\n",
    "print(reward_world)"
   ]
  },
  {
   "cell_type": "code",
   "execution_count": null,
   "id": "8ad31e48",
   "metadata": {},
   "outputs": [],
   "source": [
    "def reset_gridworld(grid_world,reward_world):\n",
    "    reward_world = reward_world_original\n",
    "    grid_world = grid_world_original\n",
    "    \n",
    "    print(\"Reset successfull!\\n\")\n",
    "    \n",
    "    return reward_world, grid_world # is this necessary after assigning values earlier?\n",
    "\n",
    "def step(grid_world,reward_world):\n",
    "    "
   ]
  }
 ],
 "metadata": {
  "kernelspec": {
   "display_name": "Python 3 (ipykernel)",
   "language": "python",
   "name": "python3"
  },
  "language_info": {
   "codemirror_mode": {
    "name": "ipython",
    "version": 3
   },
   "file_extension": ".py",
   "mimetype": "text/x-python",
   "name": "python",
   "nbconvert_exporter": "python",
   "pygments_lexer": "ipython3",
   "version": "3.9.7"
  }
 },
 "nbformat": 4,
 "nbformat_minor": 5
}
