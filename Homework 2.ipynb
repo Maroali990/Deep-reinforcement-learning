{
 "cells": [
  {
   "cell_type": "code",
   "execution_count": 12,
   "id": "99d7838d",
   "metadata": {},
   "outputs": [],
   "source": [
    "import numpy as np"
   ]
  },
  {
   "cell_type": "code",
   "execution_count": 22,
   "id": "504e61d8",
   "metadata": {},
   "outputs": [
    {
     "name": "stdout",
     "output_type": "stream",
     "text": [
      "Please provide your desired grid dimension (dim X dim)\n",
      "\n",
      "10\n",
      "\n",
      "\n",
      "Gridworld:\n",
      "\n",
      "[['O' 'O' 'O' 'O' 'O' 'O' 'O' 'O' 'O' 'O']\n",
      " ['O' 'O' 'O' 'O' 'O' 'O' 'O' 'O' 'O' 'O']\n",
      " ['O' 'O' 'O' 'O' 'O' 'O' 'O' 'O' 'O' 'O']\n",
      " ['O' 'O' 'O' 'O' 'O' 'O' 'O' 'O' 'O' 'O']\n",
      " ['O' 'O' 'O' 'O' 'O' 'O' 'O' 'O' 'O' 'O']\n",
      " ['O' 'O' 'O' 'O' 'O' 'O' 'O' 'O' 'O' 'O']\n",
      " ['O' 'O' 'O' 'O' 'O' 'O' 'O' 'O' 'O' 'O']\n",
      " ['O' 'O' 'O' 'O' 'O' 'O' 'O' 'O' 'O' 'O']\n",
      " ['O' 'O' 'O' 'O' 'O' 'O' 'O' 'O' 'O' 'O']\n",
      " ['O' 'O' 'O' 'O' 'O' 'O' 'O' 'O' 'O' 'O']]\n",
      "\n",
      "\n"
     ]
    }
   ],
   "source": [
    "print(\"Please provide your desired grid dimension (dim X dim)\\n\")\n",
    "\n",
    "s = int(input())\n",
    "\n",
    "print(\"\\n\")\n",
    "\n",
    "for x in range(s+1):\n",
    "    grid_world = [\"O\"] * (x * x)\n",
    "\n",
    "grid_world = np.array(grid_world).reshape(((x, x)))\n",
    "\n",
    "\n",
    "print(\"Gridworld:\\n\")\n",
    "print(grid_world)\n",
    "print(\"\\n\")"
   ]
  },
  {
   "cell_type": "code",
   "execution_count": null,
   "id": "9c4ae975",
   "metadata": {},
   "outputs": [],
   "source": []
  }
 ],
 "metadata": {
  "kernelspec": {
   "display_name": "Python 3 (ipykernel)",
   "language": "python",
   "name": "python3"
  },
  "language_info": {
   "codemirror_mode": {
    "name": "ipython",
    "version": 3
   },
   "file_extension": ".py",
   "mimetype": "text/x-python",
   "name": "python",
   "nbconvert_exporter": "python",
   "pygments_lexer": "ipython3",
   "version": "3.9.7"
  }
 },
 "nbformat": 4,
 "nbformat_minor": 5
}
